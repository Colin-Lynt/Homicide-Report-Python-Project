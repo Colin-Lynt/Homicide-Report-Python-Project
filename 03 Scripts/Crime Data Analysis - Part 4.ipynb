{
 "cells": [
  {
   "cell_type": "markdown",
   "id": "4aa43321",
   "metadata": {},
   "source": [
    "# Task 6.4 - Supervised Machine Learning: Regression"
   ]
  },
  {
   "cell_type": "markdown",
   "id": "ab52bbf9",
   "metadata": {},
   "source": [
    "## This Script Contains:\n",
    "- Hypthesis\n",
    "- Importing Libraries and Dataframe\n",
    "- Data Cleaning\n",
    "    - Missing Data Checks\n",
    "    - Duplicate Checks\n",
    "    - Extreme Value Checks\n",
    "- Data Prep for Regressional Analysis\n",
    "- Regression analysis\n",
    "- Reflections\n",
    "- Bonus: Additional look"
   ]
  },
  {
   "cell_type": "markdown",
   "id": "e1417c73",
   "metadata": {},
   "source": [
    "### Hypothesis"
   ]
  },
  {
   "cell_type": "markdown",
   "id": "4e63adba",
   "metadata": {},
   "source": [
    "I wanted to look at the the offenders age and the number of additional victims as I suspect they have some what of a correlation.\n",
    "\n",
    "HYPOTHESIS: I suspect as the offenders age goes up so does the number of additional victims until it hits a point around age 45/50 in which it will significantly deacrease back to 0 or 1."
   ]
  },
  {
   "cell_type": "markdown",
   "id": "3149b26c",
   "metadata": {},
   "source": [
    "### Importing Libraries"
   ]
  },
  {
   "cell_type": "code",
   "execution_count": 1,
   "id": "9db1e8d2",
   "metadata": {},
   "outputs": [],
   "source": [
    "# Importing Libraries\n",
    "import pandas as pd\n",
    "import numpy as np\n",
    "import seaborn as sns\n",
    "import matplotlib\n",
    "import matplotlib.pyplot as plt\n",
    "import os\n",
    "import sklearn\n",
    "from sklearn.model_selection import train_test_split \n",
    "from sklearn.linear_model import LinearRegression\n",
    "from sklearn.metrics import mean_squared_error, r2_score"
   ]
  },
  {
   "cell_type": "code",
   "execution_count": 2,
   "id": "0124bc5c",
   "metadata": {},
   "outputs": [],
   "source": [
    "# Making it so any graphs will display without the need to call them\n",
    "%matplotlib inline"
   ]
  },
  {
   "cell_type": "code",
   "execution_count": 3,
   "id": "cbad2d89",
   "metadata": {},
   "outputs": [],
   "source": [
    "# Defining path\n",
    "path = r'/Users/ColinLynt/Documents/CareerFoundry/01-22 Crime Data Analysis'"
   ]
  },
  {
   "cell_type": "code",
   "execution_count": 4,
   "id": "2113468a",
   "metadata": {},
   "outputs": [],
   "source": [
    "# Importing homicide report data\n",
    "df_hr = pd.read_pickle(os.path.join(path, '02 Data', 'Prepared data', 'Homicide_df.pkl'))"
   ]
  },
  {
   "cell_type": "code",
   "execution_count": 5,
   "id": "169e746c",
   "metadata": {},
   "outputs": [],
   "source": [
    "# Setting max rows/columns to see 50 rows/columns\n",
    "pd.set_option('display.max_rows', 50)\n",
    "pd.set_option('display.max_columns', 50)"
   ]
  },
  {
   "cell_type": "markdown",
   "id": "a7846e79",
   "metadata": {},
   "source": [
    "### Data Cleaning"
   ]
  },
  {
   "cell_type": "code",
   "execution_count": 6,
   "id": "8bfb25f1",
   "metadata": {},
   "outputs": [
    {
     "data": {
      "text/html": [
       "<div>\n",
       "<style scoped>\n",
       "    .dataframe tbody tr th:only-of-type {\n",
       "        vertical-align: middle;\n",
       "    }\n",
       "\n",
       "    .dataframe tbody tr th {\n",
       "        vertical-align: top;\n",
       "    }\n",
       "\n",
       "    .dataframe thead th {\n",
       "        text-align: right;\n",
       "    }\n",
       "</style>\n",
       "<table border=\"1\" class=\"dataframe\">\n",
       "  <thead>\n",
       "    <tr style=\"text-align: right;\">\n",
       "      <th></th>\n",
       "      <th>City</th>\n",
       "      <th>State</th>\n",
       "      <th>Agency</th>\n",
       "      <th>Agentype</th>\n",
       "      <th>Solved</th>\n",
       "      <th>Year</th>\n",
       "      <th>Month</th>\n",
       "      <th>ActionType</th>\n",
       "      <th>Homicide</th>\n",
       "      <th>Situation</th>\n",
       "      <th>VicAge</th>\n",
       "      <th>VicSex</th>\n",
       "      <th>VicRace</th>\n",
       "      <th>VicEthnic</th>\n",
       "      <th>OffAge</th>\n",
       "      <th>OffSex</th>\n",
       "      <th>OffRace</th>\n",
       "      <th>OffEthnic</th>\n",
       "      <th>Weapon</th>\n",
       "      <th>Relationship</th>\n",
       "      <th>Circumstance</th>\n",
       "      <th>VicCount</th>\n",
       "      <th>OffCount</th>\n",
       "    </tr>\n",
       "  </thead>\n",
       "  <tbody>\n",
       "    <tr>\n",
       "      <th>0</th>\n",
       "      <td>Autauga, AL</td>\n",
       "      <td>Alabama</td>\n",
       "      <td>Autauga County</td>\n",
       "      <td>Sheriff</td>\n",
       "      <td>No</td>\n",
       "      <td>1976</td>\n",
       "      <td>September</td>\n",
       "      <td>Normal update</td>\n",
       "      <td>Murder and non-negligent manslaughter</td>\n",
       "      <td>Single victim/unknown offender(s)</td>\n",
       "      <td>30.0</td>\n",
       "      <td>Male</td>\n",
       "      <td>Black</td>\n",
       "      <td>Unknown or not reported</td>\n",
       "      <td>31.138045</td>\n",
       "      <td>Unknown</td>\n",
       "      <td>Unknown</td>\n",
       "      <td>Unknown or not reported</td>\n",
       "      <td>Other or type unknown</td>\n",
       "      <td>Relationship not determined</td>\n",
       "      <td>Other</td>\n",
       "      <td>0</td>\n",
       "      <td>0</td>\n",
       "    </tr>\n",
       "    <tr>\n",
       "      <th>1</th>\n",
       "      <td>Autauga, AL</td>\n",
       "      <td>Alabama</td>\n",
       "      <td>Autauga County</td>\n",
       "      <td>Sheriff</td>\n",
       "      <td>Yes</td>\n",
       "      <td>1977</td>\n",
       "      <td>January</td>\n",
       "      <td>Normal update</td>\n",
       "      <td>Murder and non-negligent manslaughter</td>\n",
       "      <td>Single victim/single offender</td>\n",
       "      <td>65.0</td>\n",
       "      <td>Female</td>\n",
       "      <td>Black</td>\n",
       "      <td>Unknown or not reported</td>\n",
       "      <td>62.000000</td>\n",
       "      <td>Male</td>\n",
       "      <td>Black</td>\n",
       "      <td>Unknown or not reported</td>\n",
       "      <td>Other or type unknown</td>\n",
       "      <td>Acquaintance</td>\n",
       "      <td>Brawl due to influence of alcohol</td>\n",
       "      <td>0</td>\n",
       "      <td>0</td>\n",
       "    </tr>\n",
       "    <tr>\n",
       "      <th>2</th>\n",
       "      <td>Autauga, AL</td>\n",
       "      <td>Alabama</td>\n",
       "      <td>Autauga County</td>\n",
       "      <td>Sheriff</td>\n",
       "      <td>Yes</td>\n",
       "      <td>1977</td>\n",
       "      <td>March</td>\n",
       "      <td>Normal update</td>\n",
       "      <td>Murder and non-negligent manslaughter</td>\n",
       "      <td>Single victim/multiple offenders</td>\n",
       "      <td>48.0</td>\n",
       "      <td>Male</td>\n",
       "      <td>White</td>\n",
       "      <td>Unknown or not reported</td>\n",
       "      <td>52.000000</td>\n",
       "      <td>Male</td>\n",
       "      <td>White</td>\n",
       "      <td>Unknown or not reported</td>\n",
       "      <td>Handgun - pistol, revolver, etc</td>\n",
       "      <td>Acquaintance</td>\n",
       "      <td>Other arguments</td>\n",
       "      <td>0</td>\n",
       "      <td>1</td>\n",
       "    </tr>\n",
       "    <tr>\n",
       "      <th>3</th>\n",
       "      <td>Autauga, AL</td>\n",
       "      <td>Alabama</td>\n",
       "      <td>Prattville</td>\n",
       "      <td>Municipal police</td>\n",
       "      <td>Yes</td>\n",
       "      <td>1977</td>\n",
       "      <td>March</td>\n",
       "      <td>Normal update</td>\n",
       "      <td>Murder and non-negligent manslaughter</td>\n",
       "      <td>Single victim/single offender</td>\n",
       "      <td>27.0</td>\n",
       "      <td>Male</td>\n",
       "      <td>Black</td>\n",
       "      <td>Unknown or not reported</td>\n",
       "      <td>22.000000</td>\n",
       "      <td>Female</td>\n",
       "      <td>Black</td>\n",
       "      <td>Unknown or not reported</td>\n",
       "      <td>Shotgun</td>\n",
       "      <td>Husband</td>\n",
       "      <td>Other arguments</td>\n",
       "      <td>0</td>\n",
       "      <td>0</td>\n",
       "    </tr>\n",
       "    <tr>\n",
       "      <th>4</th>\n",
       "      <td>Autauga, AL</td>\n",
       "      <td>Alabama</td>\n",
       "      <td>Autauga County</td>\n",
       "      <td>Sheriff</td>\n",
       "      <td>Yes</td>\n",
       "      <td>1977</td>\n",
       "      <td>August</td>\n",
       "      <td>Normal update</td>\n",
       "      <td>Murder and non-negligent manslaughter</td>\n",
       "      <td>Single victim/single offender</td>\n",
       "      <td>17.0</td>\n",
       "      <td>Female</td>\n",
       "      <td>Black</td>\n",
       "      <td>Unknown or not reported</td>\n",
       "      <td>21.000000</td>\n",
       "      <td>Male</td>\n",
       "      <td>Black</td>\n",
       "      <td>Unknown or not reported</td>\n",
       "      <td>Knife or cutting instrument</td>\n",
       "      <td>Acquaintance</td>\n",
       "      <td>Circumstances undetermined</td>\n",
       "      <td>0</td>\n",
       "      <td>0</td>\n",
       "    </tr>\n",
       "  </tbody>\n",
       "</table>\n",
       "</div>"
      ],
      "text/plain": [
       "          City    State          Agency          Agentype Solved  Year  \\\n",
       "0  Autauga, AL  Alabama  Autauga County           Sheriff     No  1976   \n",
       "1  Autauga, AL  Alabama  Autauga County           Sheriff    Yes  1977   \n",
       "2  Autauga, AL  Alabama  Autauga County           Sheriff    Yes  1977   \n",
       "3  Autauga, AL  Alabama      Prattville  Municipal police    Yes  1977   \n",
       "4  Autauga, AL  Alabama  Autauga County           Sheriff    Yes  1977   \n",
       "\n",
       "       Month     ActionType                               Homicide  \\\n",
       "0  September  Normal update  Murder and non-negligent manslaughter   \n",
       "1    January  Normal update  Murder and non-negligent manslaughter   \n",
       "2      March  Normal update  Murder and non-negligent manslaughter   \n",
       "3      March  Normal update  Murder and non-negligent manslaughter   \n",
       "4     August  Normal update  Murder and non-negligent manslaughter   \n",
       "\n",
       "                           Situation  VicAge  VicSex VicRace  \\\n",
       "0  Single victim/unknown offender(s)    30.0    Male   Black   \n",
       "1      Single victim/single offender    65.0  Female   Black   \n",
       "2   Single victim/multiple offenders    48.0    Male   White   \n",
       "3      Single victim/single offender    27.0    Male   Black   \n",
       "4      Single victim/single offender    17.0  Female   Black   \n",
       "\n",
       "                 VicEthnic     OffAge   OffSex  OffRace  \\\n",
       "0  Unknown or not reported  31.138045  Unknown  Unknown   \n",
       "1  Unknown or not reported  62.000000     Male    Black   \n",
       "2  Unknown or not reported  52.000000     Male    White   \n",
       "3  Unknown or not reported  22.000000   Female    Black   \n",
       "4  Unknown or not reported  21.000000     Male    Black   \n",
       "\n",
       "                 OffEthnic                           Weapon  \\\n",
       "0  Unknown or not reported            Other or type unknown   \n",
       "1  Unknown or not reported            Other or type unknown   \n",
       "2  Unknown or not reported  Handgun - pistol, revolver, etc   \n",
       "3  Unknown or not reported                          Shotgun   \n",
       "4  Unknown or not reported      Knife or cutting instrument   \n",
       "\n",
       "                  Relationship                       Circumstance  VicCount  \\\n",
       "0  Relationship not determined                              Other         0   \n",
       "1                 Acquaintance  Brawl due to influence of alcohol         0   \n",
       "2                 Acquaintance                    Other arguments         0   \n",
       "3                      Husband                    Other arguments         0   \n",
       "4                 Acquaintance         Circumstances undetermined         0   \n",
       "\n",
       "   OffCount  \n",
       "0         0  \n",
       "1         0  \n",
       "2         1  \n",
       "3         0  \n",
       "4         0  "
      ]
     },
     "execution_count": 6,
     "metadata": {},
     "output_type": "execute_result"
    }
   ],
   "source": [
    "# Checking the df\n",
    "df_hr.head()"
   ]
  },
  {
   "cell_type": "code",
   "execution_count": 7,
   "id": "a8ac6a71",
   "metadata": {},
   "outputs": [
    {
     "data": {
      "text/plain": [
       "Index(['City', 'State', 'Agency', 'Agentype', 'Solved', 'Year', 'Month',\n",
       "       'ActionType', 'Homicide', 'Situation', 'VicAge', 'VicSex', 'VicRace',\n",
       "       'VicEthnic', 'OffAge', 'OffSex', 'OffRace', 'OffEthnic', 'Weapon',\n",
       "       'Relationship', 'Circumstance', 'VicCount', 'OffCount'],\n",
       "      dtype='object')"
      ]
     },
     "execution_count": 7,
     "metadata": {},
     "output_type": "execute_result"
    }
   ],
   "source": [
    "# Checking the names of the columns\n",
    "df_hr.columns"
   ]
  },
  {
   "cell_type": "code",
   "execution_count": 8,
   "id": "3f980d49",
   "metadata": {},
   "outputs": [
    {
     "data": {
      "text/plain": [
       "(817709, 23)"
      ]
     },
     "execution_count": 8,
     "metadata": {},
     "output_type": "execute_result"
    }
   ],
   "source": [
    "# Checking the shape of the df\n",
    "df_hr.shape"
   ]
  },
  {
   "cell_type": "markdown",
   "id": "fe513de6",
   "metadata": {},
   "source": [
    "### Missing Data"
   ]
  },
  {
   "cell_type": "code",
   "execution_count": 9,
   "id": "48618a8e",
   "metadata": {},
   "outputs": [
    {
     "data": {
      "text/plain": [
       "City            0\n",
       "State           0\n",
       "Agency          0\n",
       "Agentype        0\n",
       "Solved          0\n",
       "Year            0\n",
       "Month           0\n",
       "ActionType      0\n",
       "Homicide        0\n",
       "Situation       0\n",
       "VicAge          0\n",
       "VicSex          0\n",
       "VicRace         0\n",
       "VicEthnic       0\n",
       "OffAge          0\n",
       "OffSex          0\n",
       "OffRace         0\n",
       "OffEthnic       0\n",
       "Weapon          0\n",
       "Relationship    0\n",
       "Circumstance    0\n",
       "VicCount        0\n",
       "OffCount        0\n",
       "dtype: int64"
      ]
     },
     "execution_count": 9,
     "metadata": {},
     "output_type": "execute_result"
    }
   ],
   "source": [
    "# Checking for missing values\n",
    "df_hr.isnull().sum()\n",
    "\n",
    "# No missing values to report"
   ]
  },
  {
   "cell_type": "markdown",
   "id": "73a5a642",
   "metadata": {},
   "source": [
    "### Duplicates Check"
   ]
  },
  {
   "cell_type": "code",
   "execution_count": 10,
   "id": "4e72738f",
   "metadata": {},
   "outputs": [],
   "source": [
    "# Checking for duplicate values\n",
    "dups = df_hr.duplicated()"
   ]
  },
  {
   "cell_type": "code",
   "execution_count": 11,
   "id": "6482c7f5",
   "metadata": {},
   "outputs": [
    {
     "data": {
      "text/plain": [
       "(817709,)"
      ]
     },
     "execution_count": 11,
     "metadata": {},
     "output_type": "execute_result"
    }
   ],
   "source": [
    "dups.shape\n",
    "# No duplicates to report"
   ]
  },
  {
   "cell_type": "markdown",
   "id": "9523e336",
   "metadata": {},
   "source": [
    "### Extreme Value Check"
   ]
  },
  {
   "cell_type": "code",
   "execution_count": 14,
   "id": "e9acd398",
   "metadata": {
    "scrolled": true
   },
   "outputs": [
    {
     "data": {
      "text/plain": [
       "<seaborn.axisgrid.FacetGrid at 0x7f8407d5c430>"
      ]
     },
     "execution_count": 14,
     "metadata": {},
     "output_type": "execute_result"
    },
    {
     "data": {
      "image/png": "[encoded data removed]",
      "text/plain": [
       "<Figure size 360x360 with 1 Axes>"
      ]
     },
     "metadata": {
      "needs_background": "light"
     },
     "output_type": "display_data"
    }
   ],
   "source": [
    "sns.displot(df_hr['OffAge'], bins=25)"
   ]
  },
  {
   "cell_type": "code",
   "execution_count": 16,
   "id": "dc188520",
   "metadata": {},
   "outputs": [
    {
     "data": {
      "text/plain": [
       "31.13804532522063"
      ]
     },
     "execution_count": 16,
     "metadata": {},
     "output_type": "execute_result"
    }
   ],
   "source": [
    "# Checking the mean\n",
    "df_hr['OffAge'].mean()"
   ]
  },
  {
   "cell_type": "code",
   "execution_count": 17,
   "id": "e82cd815",
   "metadata": {},
   "outputs": [
    {
     "data": {
      "text/plain": [
       "31.138045325057575"
      ]
     },
     "execution_count": 17,
     "metadata": {},
     "output_type": "execute_result"
    }
   ],
   "source": [
    "# Checking the median\n",
    "df_hr['OffAge'].median()"
   ]
  },
  {
   "cell_type": "code",
   "execution_count": 18,
   "id": "af5f21d2",
   "metadata": {},
   "outputs": [
    {
     "data": {
      "text/plain": [
       "99.0"
      ]
     },
     "execution_count": 18,
     "metadata": {},
     "output_type": "execute_result"
    }
   ],
   "source": [
    "# Checking the max\n",
    "df_hr['OffAge'].max()"
   ]
  },
  {
   "cell_type": "code",
   "execution_count": 19,
   "id": "bea50c36",
   "metadata": {},
   "outputs": [
    {
     "data": {
      "text/plain": [
       "3.0"
      ]
     },
     "execution_count": 19,
     "metadata": {},
     "output_type": "execute_result"
    }
   ],
   "source": [
    "# Checking the min\n",
    "df_hr['OffAge'].min()"
   ]
  },
  {
   "cell_type": "code",
   "execution_count": 33,
   "id": "aa3a97a9",
   "metadata": {
    "scrolled": false
   },
   "outputs": [
    {
     "data": {
      "text/plain": [
       "<seaborn.axisgrid.FacetGrid at 0x7f8408baaee0>"
      ]
     },
     "execution_count": 33,
     "metadata": {},
     "output_type": "execute_result"
    },
    {
     "data": {
      "image/png": "[encoded data removed]",
      "text/plain": [
       "<Figure size 360x360 with 1 Axes>"
      ]
     },
     "metadata": {
      "needs_background": "light"
     },
     "output_type": "display_data"
    }
   ],
   "source": [
    "sns.displot(df_hr['VicCount'], bins=100)"
   ]
  },
  {
   "cell_type": "markdown",
   "id": "4d86d9ea",
   "metadata": {},
   "source": [
    "## Data Prep for Regressional Analysis"
   ]
  },
  {
   "cell_type": "code",
   "execution_count": 21,
   "id": "9aff2e0d",
   "metadata": {
    "scrolled": true
   },
   "outputs": [
    {
     "data": {
      "image/png": "[encoded data removed]",
      "text/plain": [
       "<Figure size 432x288 with 1 Axes>"
      ]
     },
     "metadata": {
      "needs_background": "light"
     },
     "output_type": "display_data"
    }
   ],
   "source": [
    "# Creating a scatterplot using matplotlib to see how the variable compare\n",
    "df_hr.plot(x = 'OffAge', y='VicCount',style='o')\n",
    "plt.title('Offenders Age and the Number of Additional Victims')  \n",
    "plt.xlabel('Offenders Age')  \n",
    "plt.ylabel('Number of Additional Victims')  \n",
    "plt.show()"
   ]
  },
  {
   "cell_type": "code",
   "execution_count": 22,
   "id": "10010ca3",
   "metadata": {},
   "outputs": [],
   "source": [
    "# Reshaping the variables into NumPy arrays\n",
    "X = df_hr['OffAge'].values.reshape(-1,1)\n",
    "y = df_hr['VicCount'].values.reshape(-1,1)"
   ]
  },
  {
   "cell_type": "code",
   "execution_count": 23,
   "id": "29280a96",
   "metadata": {},
   "outputs": [
    {
     "data": {
      "text/plain": [
       "array([[31.13804533],\n",
       "       [62.        ],\n",
       "       [52.        ],\n",
       "       ...,\n",
       "       [30.        ],\n",
       "       [30.        ],\n",
       "       [31.13804533]])"
      ]
     },
     "execution_count": 23,
     "metadata": {},
     "output_type": "execute_result"
    }
   ],
   "source": [
    "X"
   ]
  },
  {
   "cell_type": "code",
   "execution_count": 24,
   "id": "3ae5fbdd",
   "metadata": {
    "scrolled": true
   },
   "outputs": [
    {
     "data": {
      "text/plain": [
       "array([[0],\n",
       "       [0],\n",
       "       [0],\n",
       "       ...,\n",
       "       [0],\n",
       "       [0],\n",
       "       [0]])"
      ]
     },
     "execution_count": 24,
     "metadata": {},
     "output_type": "execute_result"
    }
   ],
   "source": [
    "y"
   ]
  },
  {
   "cell_type": "code",
   "execution_count": 25,
   "id": "a1a73bf2",
   "metadata": {},
   "outputs": [],
   "source": [
    "# Spliting data into a training set and a test set\n",
    "X_train, X_test, y_train, y_test = train_test_split(X, y, test_size=0.3, random_state=0)"
   ]
  },
  {
   "cell_type": "markdown",
   "id": "76354105",
   "metadata": {},
   "source": [
    "### Regression analysis"
   ]
  },
  {
   "cell_type": "code",
   "execution_count": 26,
   "id": "9e23686b",
   "metadata": {},
   "outputs": [],
   "source": [
    "# Creating a regression object\n",
    "regression = LinearRegression()"
   ]
  },
  {
   "cell_type": "code",
   "execution_count": 27,
   "id": "623a8f61",
   "metadata": {},
   "outputs": [
    {
     "data": {
      "text/plain": [
       "LinearRegression()"
      ]
     },
     "execution_count": 27,
     "metadata": {},
     "output_type": "execute_result"
    }
   ],
   "source": [
    "# Fitting the regression object onto the training set\n",
    "regression.fit(X_train, y_train)"
   ]
  },
  {
   "cell_type": "code",
   "execution_count": 28,
   "id": "9af8f947",
   "metadata": {},
   "outputs": [],
   "source": [
    "# Predicting the values of y using X\n",
    "y_predicted = regression.predict(X_test)"
   ]
  },
  {
   "cell_type": "code",
   "execution_count": 29,
   "id": "5890eec7",
   "metadata": {},
   "outputs": [
    {
     "data": {
      "image/png": "[encoded data removed]",
      "text/plain": [
       "<Figure size 432x288 with 1 Axes>"
      ]
     },
     "metadata": {
      "needs_background": "light"
     },
     "output_type": "display_data"
    }
   ],
   "source": [
    "# Creating a plot that shows the regression line from the model on the test set\n",
    "plot_test = plt\n",
    "plot_test.scatter(X_test, y_test, color='gray', s = 15)\n",
    "plot_test.plot(X_test, y_predicted, color='red', linewidth =3)\n",
    "plot_test.title('Offenders Age and the Number of Additional Victims (Test set)')\n",
    "plot_test.xlabel('Offenders Age')\n",
    "plot_test.ylabel('Number of Additional Victims')\n",
    "plot_test.show()"
   ]
  },
  {
   "cell_type": "code",
   "execution_count": 35,
   "id": "403da7f6",
   "metadata": {},
   "outputs": [],
   "source": [
    "# Creating objects that contain the model summary statistics\n",
    "rmse = mean_squared_error(y_test, y_predicted)\n",
    "r2 = r2_score(y_test, y_predicted)"
   ]
  },
  {
   "cell_type": "code",
   "execution_count": 36,
   "id": "7b2823d7",
   "metadata": {},
   "outputs": [
    {
     "name": "stdout",
     "output_type": "stream",
     "text": [
      "Slope: [[0.00042908]]\n",
      "Mean squared error:  0.27940200357948325\n",
      "R2 score:  4.529471400960272e-05\n"
     ]
    }
   ],
   "source": [
    "# Printing the model summary statistics\n",
    "print('Slope:' ,regression.coef_)\n",
    "print('Mean squared error: ', rmse)\n",
    "print('R2 score: ', r2)"
   ]
  },
  {
   "cell_type": "code",
   "execution_count": 37,
   "id": "cb013b9b",
   "metadata": {},
   "outputs": [
    {
     "data": {
      "text/plain": [
       "array([[0.12912818],\n",
       "       [0.12397918],\n",
       "       [0.12318024],\n",
       "       ...,\n",
       "       [0.12827001],\n",
       "       [0.11797201],\n",
       "       [0.12183376]])"
      ]
     },
     "execution_count": 37,
     "metadata": {},
     "output_type": "execute_result"
    }
   ],
   "source": [
    "y_predicted"
   ]
  },
  {
   "cell_type": "code",
   "execution_count": 38,
   "id": "d86bf980",
   "metadata": {
    "scrolled": true
   },
   "outputs": [
    {
     "data": {
      "text/html": [
       "<div>\n",
       "<style scoped>\n",
       "    .dataframe tbody tr th:only-of-type {\n",
       "        vertical-align: middle;\n",
       "    }\n",
       "\n",
       "    .dataframe tbody tr th {\n",
       "        vertical-align: top;\n",
       "    }\n",
       "\n",
       "    .dataframe thead th {\n",
       "        text-align: right;\n",
       "    }\n",
       "</style>\n",
       "<table border=\"1\" class=\"dataframe\">\n",
       "  <thead>\n",
       "    <tr style=\"text-align: right;\">\n",
       "      <th></th>\n",
       "      <th>Actual</th>\n",
       "      <th>Predicted</th>\n",
       "    </tr>\n",
       "  </thead>\n",
       "  <tbody>\n",
       "    <tr>\n",
       "      <th>0</th>\n",
       "      <td>0</td>\n",
       "      <td>0.129128</td>\n",
       "    </tr>\n",
       "    <tr>\n",
       "      <th>1</th>\n",
       "      <td>0</td>\n",
       "      <td>0.123979</td>\n",
       "    </tr>\n",
       "    <tr>\n",
       "      <th>2</th>\n",
       "      <td>0</td>\n",
       "      <td>0.123180</td>\n",
       "    </tr>\n",
       "    <tr>\n",
       "      <th>3</th>\n",
       "      <td>0</td>\n",
       "      <td>0.121834</td>\n",
       "    </tr>\n",
       "    <tr>\n",
       "      <th>4</th>\n",
       "      <td>0</td>\n",
       "      <td>0.120117</td>\n",
       "    </tr>\n",
       "    <tr>\n",
       "      <th>5</th>\n",
       "      <td>0</td>\n",
       "      <td>0.123180</td>\n",
       "    </tr>\n",
       "    <tr>\n",
       "      <th>6</th>\n",
       "      <td>0</td>\n",
       "      <td>0.123180</td>\n",
       "    </tr>\n",
       "    <tr>\n",
       "      <th>7</th>\n",
       "      <td>0</td>\n",
       "      <td>0.123180</td>\n",
       "    </tr>\n",
       "    <tr>\n",
       "      <th>8</th>\n",
       "      <td>0</td>\n",
       "      <td>0.121405</td>\n",
       "    </tr>\n",
       "    <tr>\n",
       "      <th>9</th>\n",
       "      <td>0</td>\n",
       "      <td>0.123180</td>\n",
       "    </tr>\n",
       "    <tr>\n",
       "      <th>10</th>\n",
       "      <td>0</td>\n",
       "      <td>0.116685</td>\n",
       "    </tr>\n",
       "    <tr>\n",
       "      <th>11</th>\n",
       "      <td>0</td>\n",
       "      <td>0.138139</td>\n",
       "    </tr>\n",
       "    <tr>\n",
       "      <th>12</th>\n",
       "      <td>0</td>\n",
       "      <td>0.123180</td>\n",
       "    </tr>\n",
       "    <tr>\n",
       "      <th>13</th>\n",
       "      <td>0</td>\n",
       "      <td>0.125266</td>\n",
       "    </tr>\n",
       "    <tr>\n",
       "      <th>14</th>\n",
       "      <td>0</td>\n",
       "      <td>0.123180</td>\n",
       "    </tr>\n",
       "    <tr>\n",
       "      <th>15</th>\n",
       "      <td>0</td>\n",
       "      <td>0.120976</td>\n",
       "    </tr>\n",
       "    <tr>\n",
       "      <th>16</th>\n",
       "      <td>0</td>\n",
       "      <td>0.127841</td>\n",
       "    </tr>\n",
       "    <tr>\n",
       "      <th>17</th>\n",
       "      <td>0</td>\n",
       "      <td>0.118830</td>\n",
       "    </tr>\n",
       "    <tr>\n",
       "      <th>18</th>\n",
       "      <td>0</td>\n",
       "      <td>0.127412</td>\n",
       "    </tr>\n",
       "    <tr>\n",
       "      <th>19</th>\n",
       "      <td>0</td>\n",
       "      <td>0.133848</td>\n",
       "    </tr>\n",
       "    <tr>\n",
       "      <th>20</th>\n",
       "      <td>0</td>\n",
       "      <td>0.118830</td>\n",
       "    </tr>\n",
       "    <tr>\n",
       "      <th>21</th>\n",
       "      <td>0</td>\n",
       "      <td>0.116256</td>\n",
       "    </tr>\n",
       "    <tr>\n",
       "      <th>22</th>\n",
       "      <td>0</td>\n",
       "      <td>0.123180</td>\n",
       "    </tr>\n",
       "    <tr>\n",
       "      <th>23</th>\n",
       "      <td>0</td>\n",
       "      <td>0.123180</td>\n",
       "    </tr>\n",
       "    <tr>\n",
       "      <th>24</th>\n",
       "      <td>3</td>\n",
       "      <td>0.123180</td>\n",
       "    </tr>\n",
       "    <tr>\n",
       "      <th>25</th>\n",
       "      <td>0</td>\n",
       "      <td>0.122263</td>\n",
       "    </tr>\n",
       "    <tr>\n",
       "      <th>26</th>\n",
       "      <td>0</td>\n",
       "      <td>0.123180</td>\n",
       "    </tr>\n",
       "    <tr>\n",
       "      <th>27</th>\n",
       "      <td>0</td>\n",
       "      <td>0.115398</td>\n",
       "    </tr>\n",
       "    <tr>\n",
       "      <th>28</th>\n",
       "      <td>0</td>\n",
       "      <td>0.123180</td>\n",
       "    </tr>\n",
       "    <tr>\n",
       "      <th>29</th>\n",
       "      <td>0</td>\n",
       "      <td>0.123180</td>\n",
       "    </tr>\n",
       "  </tbody>\n",
       "</table>\n",
       "</div>"
      ],
      "text/plain": [
       "    Actual  Predicted\n",
       "0        0   0.129128\n",
       "1        0   0.123979\n",
       "2        0   0.123180\n",
       "3        0   0.121834\n",
       "4        0   0.120117\n",
       "5        0   0.123180\n",
       "6        0   0.123180\n",
       "7        0   0.123180\n",
       "8        0   0.121405\n",
       "9        0   0.123180\n",
       "10       0   0.116685\n",
       "11       0   0.138139\n",
       "12       0   0.123180\n",
       "13       0   0.125266\n",
       "14       0   0.123180\n",
       "15       0   0.120976\n",
       "16       0   0.127841\n",
       "17       0   0.118830\n",
       "18       0   0.127412\n",
       "19       0   0.133848\n",
       "20       0   0.118830\n",
       "21       0   0.116256\n",
       "22       0   0.123180\n",
       "23       0   0.123180\n",
       "24       3   0.123180\n",
       "25       0   0.122263\n",
       "26       0   0.123180\n",
       "27       0   0.115398\n",
       "28       0   0.123180\n",
       "29       0   0.123180"
      ]
     },
     "execution_count": 38,
     "metadata": {},
     "output_type": "execute_result"
    }
   ],
   "source": [
    "# Creating a dataframe comparing the actual and predicted values of y\n",
    "data = pd.DataFrame({'Actual': y_test.flatten(), 'Predicted': y_predicted.flatten()})\n",
    "data.head(30)"
   ]
  },
  {
   "cell_type": "markdown",
   "id": "b1b5b6b7",
   "metadata": {},
   "source": [
    "### Reflections"
   ]
  },
  {
   "cell_type": "markdown",
   "id": "dd4a05ea",
   "metadata": {},
   "source": [
    "There was no correlation between the offender's age and the number of additional victims. While I utilized a predictive model, I knew it wasn't going to produce any interesting results as a lot of the data points are too clustered together around 0. For this reason, the predictive model wouldn't work. This data set, unfortunately, wasn't designed for this type of analysis.\n",
    "\n",
    "That being said, the predictive model wasn't that great, as it centered itself around 0. It wasn't great at being able to predict future events las the events in question were too hard to predict, as it is human nature after all.\n",
    "\n",
    "So I was curious to see what would happen to the predictive model if I had gotten rid of all the zeros. See below for further information."
   ]
  },
  {
   "cell_type": "markdown",
   "id": "7b224fe4",
   "metadata": {},
   "source": [
    "### Bonus: Additional look"
   ]
  },
  {
   "cell_type": "markdown",
   "id": "9682c94e",
   "metadata": {},
   "source": [
    "While it isn't good data practice to delete this many rows, I was curious to see if the zeros were skewing the regression analysis. So I have decided to test this hypothesis and delete all rows in the VicCount column to see how this will affect my regression analysis. \n",
    "\n",
    "There are 750874 rows with zero, which is about 94% of my data. As I mentioned before, this is not good data analytics practice."
   ]
  },
  {
   "cell_type": "code",
   "execution_count": 39,
   "id": "f9d63526",
   "metadata": {
    "scrolled": true
   },
   "outputs": [
    {
     "data": {
      "text/html": [
       "<div>\n",
       "<style scoped>\n",
       "    .dataframe tbody tr th:only-of-type {\n",
       "        vertical-align: middle;\n",
       "    }\n",
       "\n",
       "    .dataframe tbody tr th {\n",
       "        vertical-align: top;\n",
       "    }\n",
       "\n",
       "    .dataframe thead th {\n",
       "        text-align: right;\n",
       "    }\n",
       "</style>\n",
       "<table border=\"1\" class=\"dataframe\">\n",
       "  <thead>\n",
       "    <tr style=\"text-align: right;\">\n",
       "      <th></th>\n",
       "      <th>City</th>\n",
       "      <th>State</th>\n",
       "      <th>Agency</th>\n",
       "      <th>Agentype</th>\n",
       "      <th>Solved</th>\n",
       "      <th>Year</th>\n",
       "      <th>Month</th>\n",
       "      <th>ActionType</th>\n",
       "      <th>Homicide</th>\n",
       "      <th>Situation</th>\n",
       "      <th>VicAge</th>\n",
       "      <th>VicSex</th>\n",
       "      <th>VicRace</th>\n",
       "      <th>VicEthnic</th>\n",
       "      <th>OffAge</th>\n",
       "      <th>OffSex</th>\n",
       "      <th>OffRace</th>\n",
       "      <th>OffEthnic</th>\n",
       "      <th>Weapon</th>\n",
       "      <th>Relationship</th>\n",
       "      <th>Circumstance</th>\n",
       "      <th>VicCount</th>\n",
       "      <th>OffCount</th>\n",
       "    </tr>\n",
       "  </thead>\n",
       "  <tbody>\n",
       "    <tr>\n",
       "      <th>0</th>\n",
       "      <td>Autauga, AL</td>\n",
       "      <td>Alabama</td>\n",
       "      <td>Autauga County</td>\n",
       "      <td>Sheriff</td>\n",
       "      <td>No</td>\n",
       "      <td>1976</td>\n",
       "      <td>September</td>\n",
       "      <td>Normal update</td>\n",
       "      <td>Murder and non-negligent manslaughter</td>\n",
       "      <td>Single victim/unknown offender(s)</td>\n",
       "      <td>30.0</td>\n",
       "      <td>Male</td>\n",
       "      <td>Black</td>\n",
       "      <td>Unknown or not reported</td>\n",
       "      <td>31.138045</td>\n",
       "      <td>Unknown</td>\n",
       "      <td>Unknown</td>\n",
       "      <td>Unknown or not reported</td>\n",
       "      <td>Other or type unknown</td>\n",
       "      <td>Relationship not determined</td>\n",
       "      <td>Other</td>\n",
       "      <td>0</td>\n",
       "      <td>0</td>\n",
       "    </tr>\n",
       "    <tr>\n",
       "      <th>1</th>\n",
       "      <td>Autauga, AL</td>\n",
       "      <td>Alabama</td>\n",
       "      <td>Autauga County</td>\n",
       "      <td>Sheriff</td>\n",
       "      <td>Yes</td>\n",
       "      <td>1977</td>\n",
       "      <td>January</td>\n",
       "      <td>Normal update</td>\n",
       "      <td>Murder and non-negligent manslaughter</td>\n",
       "      <td>Single victim/single offender</td>\n",
       "      <td>65.0</td>\n",
       "      <td>Female</td>\n",
       "      <td>Black</td>\n",
       "      <td>Unknown or not reported</td>\n",
       "      <td>62.000000</td>\n",
       "      <td>Male</td>\n",
       "      <td>Black</td>\n",
       "      <td>Unknown or not reported</td>\n",
       "      <td>Other or type unknown</td>\n",
       "      <td>Acquaintance</td>\n",
       "      <td>Brawl due to influence of alcohol</td>\n",
       "      <td>0</td>\n",
       "      <td>0</td>\n",
       "    </tr>\n",
       "    <tr>\n",
       "      <th>2</th>\n",
       "      <td>Autauga, AL</td>\n",
       "      <td>Alabama</td>\n",
       "      <td>Autauga County</td>\n",
       "      <td>Sheriff</td>\n",
       "      <td>Yes</td>\n",
       "      <td>1977</td>\n",
       "      <td>March</td>\n",
       "      <td>Normal update</td>\n",
       "      <td>Murder and non-negligent manslaughter</td>\n",
       "      <td>Single victim/multiple offenders</td>\n",
       "      <td>48.0</td>\n",
       "      <td>Male</td>\n",
       "      <td>White</td>\n",
       "      <td>Unknown or not reported</td>\n",
       "      <td>52.000000</td>\n",
       "      <td>Male</td>\n",
       "      <td>White</td>\n",
       "      <td>Unknown or not reported</td>\n",
       "      <td>Handgun - pistol, revolver, etc</td>\n",
       "      <td>Acquaintance</td>\n",
       "      <td>Other arguments</td>\n",
       "      <td>0</td>\n",
       "      <td>1</td>\n",
       "    </tr>\n",
       "    <tr>\n",
       "      <th>3</th>\n",
       "      <td>Autauga, AL</td>\n",
       "      <td>Alabama</td>\n",
       "      <td>Prattville</td>\n",
       "      <td>Municipal police</td>\n",
       "      <td>Yes</td>\n",
       "      <td>1977</td>\n",
       "      <td>March</td>\n",
       "      <td>Normal update</td>\n",
       "      <td>Murder and non-negligent manslaughter</td>\n",
       "      <td>Single victim/single offender</td>\n",
       "      <td>27.0</td>\n",
       "      <td>Male</td>\n",
       "      <td>Black</td>\n",
       "      <td>Unknown or not reported</td>\n",
       "      <td>22.000000</td>\n",
       "      <td>Female</td>\n",
       "      <td>Black</td>\n",
       "      <td>Unknown or not reported</td>\n",
       "      <td>Shotgun</td>\n",
       "      <td>Husband</td>\n",
       "      <td>Other arguments</td>\n",
       "      <td>0</td>\n",
       "      <td>0</td>\n",
       "    </tr>\n",
       "    <tr>\n",
       "      <th>4</th>\n",
       "      <td>Autauga, AL</td>\n",
       "      <td>Alabama</td>\n",
       "      <td>Autauga County</td>\n",
       "      <td>Sheriff</td>\n",
       "      <td>Yes</td>\n",
       "      <td>1977</td>\n",
       "      <td>August</td>\n",
       "      <td>Normal update</td>\n",
       "      <td>Murder and non-negligent manslaughter</td>\n",
       "      <td>Single victim/single offender</td>\n",
       "      <td>17.0</td>\n",
       "      <td>Female</td>\n",
       "      <td>Black</td>\n",
       "      <td>Unknown or not reported</td>\n",
       "      <td>21.000000</td>\n",
       "      <td>Male</td>\n",
       "      <td>Black</td>\n",
       "      <td>Unknown or not reported</td>\n",
       "      <td>Knife or cutting instrument</td>\n",
       "      <td>Acquaintance</td>\n",
       "      <td>Circumstances undetermined</td>\n",
       "      <td>0</td>\n",
       "      <td>0</td>\n",
       "    </tr>\n",
       "    <tr>\n",
       "      <th>...</th>\n",
       "      <td>...</td>\n",
       "      <td>...</td>\n",
       "      <td>...</td>\n",
       "      <td>...</td>\n",
       "      <td>...</td>\n",
       "      <td>...</td>\n",
       "      <td>...</td>\n",
       "      <td>...</td>\n",
       "      <td>...</td>\n",
       "      <td>...</td>\n",
       "      <td>...</td>\n",
       "      <td>...</td>\n",
       "      <td>...</td>\n",
       "      <td>...</td>\n",
       "      <td>...</td>\n",
       "      <td>...</td>\n",
       "      <td>...</td>\n",
       "      <td>...</td>\n",
       "      <td>...</td>\n",
       "      <td>...</td>\n",
       "      <td>...</td>\n",
       "      <td>...</td>\n",
       "      <td>...</td>\n",
       "    </tr>\n",
       "    <tr>\n",
       "      <th>827214</th>\n",
       "      <td>Weston, WY</td>\n",
       "      <td>Wyoming</td>\n",
       "      <td>Weston County</td>\n",
       "      <td>Sheriff</td>\n",
       "      <td>Yes</td>\n",
       "      <td>1982</td>\n",
       "      <td>October</td>\n",
       "      <td>Normal update</td>\n",
       "      <td>Murder and non-negligent manslaughter</td>\n",
       "      <td>Single victim/single offender</td>\n",
       "      <td>21.0</td>\n",
       "      <td>Female</td>\n",
       "      <td>White</td>\n",
       "      <td>Not of Hispanic origin</td>\n",
       "      <td>23.000000</td>\n",
       "      <td>Male</td>\n",
       "      <td>White</td>\n",
       "      <td>Not of Hispanic origin</td>\n",
       "      <td>Personal weapons, includes beating</td>\n",
       "      <td>Girlfriend</td>\n",
       "      <td>Other arguments</td>\n",
       "      <td>0</td>\n",
       "      <td>0</td>\n",
       "    </tr>\n",
       "    <tr>\n",
       "      <th>827215</th>\n",
       "      <td>Weston, WY</td>\n",
       "      <td>Wyoming</td>\n",
       "      <td>Weston County</td>\n",
       "      <td>Sheriff</td>\n",
       "      <td>Yes</td>\n",
       "      <td>1987</td>\n",
       "      <td>January</td>\n",
       "      <td>Normal update</td>\n",
       "      <td>Manslaughter by negligence</td>\n",
       "      <td>Single victim/single offender</td>\n",
       "      <td>2.0</td>\n",
       "      <td>Male</td>\n",
       "      <td>White</td>\n",
       "      <td>Unknown or not reported</td>\n",
       "      <td>24.000000</td>\n",
       "      <td>Female</td>\n",
       "      <td>White</td>\n",
       "      <td>Unknown or not reported</td>\n",
       "      <td>Asphyxiation - includes death by gas</td>\n",
       "      <td>Son</td>\n",
       "      <td>All other manslaughter by negligence</td>\n",
       "      <td>0</td>\n",
       "      <td>0</td>\n",
       "    </tr>\n",
       "    <tr>\n",
       "      <th>827216</th>\n",
       "      <td>Weston, WY</td>\n",
       "      <td>Wyoming</td>\n",
       "      <td>Weston County</td>\n",
       "      <td>Sheriff</td>\n",
       "      <td>Yes</td>\n",
       "      <td>1994</td>\n",
       "      <td>December</td>\n",
       "      <td>Normal update</td>\n",
       "      <td>Manslaughter by negligence</td>\n",
       "      <td>Single victim/single offender</td>\n",
       "      <td>35.0</td>\n",
       "      <td>Female</td>\n",
       "      <td>Asian</td>\n",
       "      <td>Unknown or not reported</td>\n",
       "      <td>30.000000</td>\n",
       "      <td>Male</td>\n",
       "      <td>Asian</td>\n",
       "      <td>Unknown or not reported</td>\n",
       "      <td>Other or type unknown</td>\n",
       "      <td>Acquaintance</td>\n",
       "      <td>All other manslaughter by negligence</td>\n",
       "      <td>0</td>\n",
       "      <td>0</td>\n",
       "    </tr>\n",
       "    <tr>\n",
       "      <th>827217</th>\n",
       "      <td>Weston, WY</td>\n",
       "      <td>Wyoming</td>\n",
       "      <td>Weston County</td>\n",
       "      <td>Sheriff</td>\n",
       "      <td>Yes</td>\n",
       "      <td>2004</td>\n",
       "      <td>May</td>\n",
       "      <td>Normal update</td>\n",
       "      <td>Murder and non-negligent manslaughter</td>\n",
       "      <td>Single victim/single offender</td>\n",
       "      <td>22.0</td>\n",
       "      <td>Female</td>\n",
       "      <td>White</td>\n",
       "      <td>Unknown or not reported</td>\n",
       "      <td>30.000000</td>\n",
       "      <td>Male</td>\n",
       "      <td>White</td>\n",
       "      <td>Unknown or not reported</td>\n",
       "      <td>Other or type unknown</td>\n",
       "      <td>Girlfriend</td>\n",
       "      <td>Other arguments</td>\n",
       "      <td>0</td>\n",
       "      <td>0</td>\n",
       "    </tr>\n",
       "    <tr>\n",
       "      <th>827218</th>\n",
       "      <td>Weston, WY</td>\n",
       "      <td>Wyoming</td>\n",
       "      <td>Newcastle</td>\n",
       "      <td>Municipal police</td>\n",
       "      <td>No</td>\n",
       "      <td>2011</td>\n",
       "      <td>June</td>\n",
       "      <td>Normal update</td>\n",
       "      <td>Murder and non-negligent manslaughter</td>\n",
       "      <td>Single victim/unknown offender(s)</td>\n",
       "      <td>35.0</td>\n",
       "      <td>Female</td>\n",
       "      <td>White</td>\n",
       "      <td>Unknown or not reported</td>\n",
       "      <td>31.138045</td>\n",
       "      <td>Unknown</td>\n",
       "      <td>Unknown</td>\n",
       "      <td>Unknown or not reported</td>\n",
       "      <td>Handgun - pistol, revolver, etc</td>\n",
       "      <td>Relationship not determined</td>\n",
       "      <td>Circumstances undetermined</td>\n",
       "      <td>0</td>\n",
       "      <td>0</td>\n",
       "    </tr>\n",
       "  </tbody>\n",
       "</table>\n",
       "<p>750874 rows × 23 columns</p>\n",
       "</div>"
      ],
      "text/plain": [
       "               City    State          Agency          Agentype Solved  Year  \\\n",
       "0       Autauga, AL  Alabama  Autauga County           Sheriff     No  1976   \n",
       "1       Autauga, AL  Alabama  Autauga County           Sheriff    Yes  1977   \n",
       "2       Autauga, AL  Alabama  Autauga County           Sheriff    Yes  1977   \n",
       "3       Autauga, AL  Alabama      Prattville  Municipal police    Yes  1977   \n",
       "4       Autauga, AL  Alabama  Autauga County           Sheriff    Yes  1977   \n",
       "...             ...      ...             ...               ...    ...   ...   \n",
       "827214   Weston, WY  Wyoming   Weston County           Sheriff    Yes  1982   \n",
       "827215   Weston, WY  Wyoming   Weston County           Sheriff    Yes  1987   \n",
       "827216   Weston, WY  Wyoming   Weston County           Sheriff    Yes  1994   \n",
       "827217   Weston, WY  Wyoming   Weston County           Sheriff    Yes  2004   \n",
       "827218   Weston, WY  Wyoming       Newcastle  Municipal police     No  2011   \n",
       "\n",
       "            Month     ActionType                               Homicide  \\\n",
       "0       September  Normal update  Murder and non-negligent manslaughter   \n",
       "1         January  Normal update  Murder and non-negligent manslaughter   \n",
       "2           March  Normal update  Murder and non-negligent manslaughter   \n",
       "3           March  Normal update  Murder and non-negligent manslaughter   \n",
       "4          August  Normal update  Murder and non-negligent manslaughter   \n",
       "...           ...            ...                                    ...   \n",
       "827214    October  Normal update  Murder and non-negligent manslaughter   \n",
       "827215    January  Normal update             Manslaughter by negligence   \n",
       "827216   December  Normal update             Manslaughter by negligence   \n",
       "827217        May  Normal update  Murder and non-negligent manslaughter   \n",
       "827218       June  Normal update  Murder and non-negligent manslaughter   \n",
       "\n",
       "                                Situation  VicAge  VicSex VicRace  \\\n",
       "0       Single victim/unknown offender(s)    30.0    Male   Black   \n",
       "1           Single victim/single offender    65.0  Female   Black   \n",
       "2        Single victim/multiple offenders    48.0    Male   White   \n",
       "3           Single victim/single offender    27.0    Male   Black   \n",
       "4           Single victim/single offender    17.0  Female   Black   \n",
       "...                                   ...     ...     ...     ...   \n",
       "827214      Single victim/single offender    21.0  Female   White   \n",
       "827215      Single victim/single offender     2.0    Male   White   \n",
       "827216      Single victim/single offender    35.0  Female   Asian   \n",
       "827217      Single victim/single offender    22.0  Female   White   \n",
       "827218  Single victim/unknown offender(s)    35.0  Female   White   \n",
       "\n",
       "                      VicEthnic     OffAge   OffSex  OffRace  \\\n",
       "0       Unknown or not reported  31.138045  Unknown  Unknown   \n",
       "1       Unknown or not reported  62.000000     Male    Black   \n",
       "2       Unknown or not reported  52.000000     Male    White   \n",
       "3       Unknown or not reported  22.000000   Female    Black   \n",
       "4       Unknown or not reported  21.000000     Male    Black   \n",
       "...                         ...        ...      ...      ...   \n",
       "827214   Not of Hispanic origin  23.000000     Male    White   \n",
       "827215  Unknown or not reported  24.000000   Female    White   \n",
       "827216  Unknown or not reported  30.000000     Male    Asian   \n",
       "827217  Unknown or not reported  30.000000     Male    White   \n",
       "827218  Unknown or not reported  31.138045  Unknown  Unknown   \n",
       "\n",
       "                      OffEthnic                                Weapon  \\\n",
       "0       Unknown or not reported                 Other or type unknown   \n",
       "1       Unknown or not reported                 Other or type unknown   \n",
       "2       Unknown or not reported       Handgun - pistol, revolver, etc   \n",
       "3       Unknown or not reported                               Shotgun   \n",
       "4       Unknown or not reported           Knife or cutting instrument   \n",
       "...                         ...                                   ...   \n",
       "827214   Not of Hispanic origin    Personal weapons, includes beating   \n",
       "827215  Unknown or not reported  Asphyxiation - includes death by gas   \n",
       "827216  Unknown or not reported                 Other or type unknown   \n",
       "827217  Unknown or not reported                 Other or type unknown   \n",
       "827218  Unknown or not reported       Handgun - pistol, revolver, etc   \n",
       "\n",
       "                       Relationship                          Circumstance  \\\n",
       "0       Relationship not determined                                 Other   \n",
       "1                      Acquaintance     Brawl due to influence of alcohol   \n",
       "2                      Acquaintance                       Other arguments   \n",
       "3                           Husband                       Other arguments   \n",
       "4                      Acquaintance            Circumstances undetermined   \n",
       "...                             ...                                   ...   \n",
       "827214                   Girlfriend                       Other arguments   \n",
       "827215                          Son  All other manslaughter by negligence   \n",
       "827216                 Acquaintance  All other manslaughter by negligence   \n",
       "827217                   Girlfriend                       Other arguments   \n",
       "827218  Relationship not determined            Circumstances undetermined   \n",
       "\n",
       "        VicCount  OffCount  \n",
       "0              0         0  \n",
       "1              0         0  \n",
       "2              0         1  \n",
       "3              0         0  \n",
       "4              0         0  \n",
       "...          ...       ...  \n",
       "827214         0         0  \n",
       "827215         0         0  \n",
       "827216         0         0  \n",
       "827217         0         0  \n",
       "827218         0         0  \n",
       "\n",
       "[750874 rows x 23 columns]"
      ]
     },
     "execution_count": 39,
     "metadata": {},
     "output_type": "execute_result"
    }
   ],
   "source": [
    "# Checking what PAPSP8 is\n",
    "df_hr.loc[df_hr['VicCount'] == 0]"
   ]
  },
  {
   "cell_type": "code",
   "execution_count": 41,
   "id": "ae25996b",
   "metadata": {},
   "outputs": [],
   "source": [
    "# Dropping 0s from VicCount\n",
    "df_hr.drop(df_hr.loc[df_hr['VicCount'] == 0].index, inplace = True)"
   ]
  },
  {
   "cell_type": "code",
   "execution_count": 42,
   "id": "d84369c0",
   "metadata": {},
   "outputs": [
    {
     "data": {
      "text/plain": [
       "(66835, 23)"
      ]
     },
     "execution_count": 42,
     "metadata": {},
     "output_type": "execute_result"
    }
   ],
   "source": [
    "df_hr.shape"
   ]
  },
  {
   "cell_type": "code",
   "execution_count": 43,
   "id": "e1d88cb4",
   "metadata": {},
   "outputs": [
    {
     "data": {
      "image/png": "[encoded data removed]",
      "text/plain": [
       "<Figure size 432x288 with 1 Axes>"
      ]
     },
     "metadata": {
      "needs_background": "light"
     },
     "output_type": "display_data"
    }
   ],
   "source": [
    "# Creating a scatterplot using matplotlib to see how the variable compare\n",
    "df_hr.plot(x = 'OffAge', y='VicCount',style='o')\n",
    "plt.title('Offenders Age and the Number of Additional Victims')  \n",
    "plt.xlabel('Offenders Age')  \n",
    "plt.ylabel('Number of Additional Victims')  \n",
    "plt.show()"
   ]
  },
  {
   "cell_type": "code",
   "execution_count": 44,
   "id": "8fdac6f1",
   "metadata": {},
   "outputs": [],
   "source": [
    "# Reshaping the variables into NumPy arrays\n",
    "X = df_hr['OffAge'].values.reshape(-1,1)\n",
    "y = df_hr['VicCount'].values.reshape(-1,1)"
   ]
  },
  {
   "cell_type": "code",
   "execution_count": 45,
   "id": "d973f3a8",
   "metadata": {},
   "outputs": [
    {
     "data": {
      "text/plain": [
       "array([[59.],\n",
       "       [59.],\n",
       "       [39.],\n",
       "       ...,\n",
       "       [27.],\n",
       "       [27.],\n",
       "       [27.]])"
      ]
     },
     "execution_count": 45,
     "metadata": {},
     "output_type": "execute_result"
    }
   ],
   "source": [
    "X"
   ]
  },
  {
   "cell_type": "code",
   "execution_count": 46,
   "id": "2b3b9e62",
   "metadata": {},
   "outputs": [
    {
     "data": {
      "text/plain": [
       "array([[1],\n",
       "       [1],\n",
       "       [1],\n",
       "       ...,\n",
       "       [2],\n",
       "       [2],\n",
       "       [2]])"
      ]
     },
     "execution_count": 46,
     "metadata": {},
     "output_type": "execute_result"
    }
   ],
   "source": [
    "y"
   ]
  },
  {
   "cell_type": "code",
   "execution_count": 47,
   "id": "c93d5cf4",
   "metadata": {},
   "outputs": [],
   "source": [
    "# Spliting data into a training set and a test set\n",
    "X_train, X_test, y_train, y_test = train_test_split(X, y, test_size=0.3, random_state=0)"
   ]
  },
  {
   "cell_type": "code",
   "execution_count": 48,
   "id": "b9eac723",
   "metadata": {},
   "outputs": [],
   "source": [
    "# Creating a regression object\n",
    "regression = LinearRegression()"
   ]
  },
  {
   "cell_type": "code",
   "execution_count": 49,
   "id": "b3de0835",
   "metadata": {},
   "outputs": [
    {
     "data": {
      "text/plain": [
       "LinearRegression()"
      ]
     },
     "execution_count": 49,
     "metadata": {},
     "output_type": "execute_result"
    }
   ],
   "source": [
    "# Fitting the regression object onto the training set\n",
    "regression.fit(X_train, y_train)"
   ]
  },
  {
   "cell_type": "code",
   "execution_count": 50,
   "id": "3e5817d4",
   "metadata": {},
   "outputs": [],
   "source": [
    "# Predicting the values of y using X\n",
    "y_predicted = regression.predict(X_test)"
   ]
  },
  {
   "cell_type": "code",
   "execution_count": 51,
   "id": "4f1ac87f",
   "metadata": {},
   "outputs": [
    {
     "data": {
      "image/png": "[encoded data removed]",
      "text/plain": [
       "<Figure size 432x288 with 1 Axes>"
      ]
     },
     "metadata": {
      "needs_background": "light"
     },
     "output_type": "display_data"
    }
   ],
   "source": [
    "# Creating a plot that shows the regression line from the model on the test set\n",
    "plot_test = plt\n",
    "plot_test.scatter(X_test, y_test, color='gray', s = 15)\n",
    "plot_test.plot(X_test, y_predicted, color='red', linewidth =3)\n",
    "plot_test.title('Offenders Age and the Number of Additional Victims (Test set)')\n",
    "plot_test.xlabel('Offenders Age')\n",
    "plot_test.ylabel('Number of Additional Victims')\n",
    "plot_test.show()"
   ]
  },
  {
   "cell_type": "code",
   "execution_count": 52,
   "id": "9713f0de",
   "metadata": {},
   "outputs": [],
   "source": [
    "# Creating objects that contain the model summary statistics\n",
    "rmse = mean_squared_error(y_test, y_predicted)\n",
    "r2 = r2_score(y_test, y_predicted)"
   ]
  },
  {
   "cell_type": "code",
   "execution_count": 53,
   "id": "f57af299",
   "metadata": {},
   "outputs": [
    {
     "name": "stdout",
     "output_type": "stream",
     "text": [
      "Slope: [[0.00065794]]\n",
      "Mean squared error:  1.4689457696911654\n",
      "R2 score:  6.273794810318645e-05\n"
     ]
    }
   ],
   "source": [
    "# Printing the model summary statistics\n",
    "print('Slope:' ,regression.coef_)\n",
    "print('Mean squared error: ', rmse)\n",
    "print('R2 score: ', r2)"
   ]
  },
  {
   "cell_type": "code",
   "execution_count": 54,
   "id": "5c3a05d8",
   "metadata": {},
   "outputs": [
    {
     "data": {
      "text/plain": [
       "array([[1.49844158],\n",
       "       [1.4945848 ],\n",
       "       [1.4945848 ],\n",
       "       ...,\n",
       "       [1.48857255],\n",
       "       [1.49712571],\n",
       "       [1.49054636]])"
      ]
     },
     "execution_count": 54,
     "metadata": {},
     "output_type": "execute_result"
    }
   ],
   "source": [
    "y_predicted"
   ]
  },
  {
   "cell_type": "code",
   "execution_count": 55,
   "id": "106660e3",
   "metadata": {},
   "outputs": [
    {
     "data": {
      "text/html": [
       "<div>\n",
       "<style scoped>\n",
       "    .dataframe tbody tr th:only-of-type {\n",
       "        vertical-align: middle;\n",
       "    }\n",
       "\n",
       "    .dataframe tbody tr th {\n",
       "        vertical-align: top;\n",
       "    }\n",
       "\n",
       "    .dataframe thead th {\n",
       "        text-align: right;\n",
       "    }\n",
       "</style>\n",
       "<table border=\"1\" class=\"dataframe\">\n",
       "  <thead>\n",
       "    <tr style=\"text-align: right;\">\n",
       "      <th></th>\n",
       "      <th>Actual</th>\n",
       "      <th>Predicted</th>\n",
       "    </tr>\n",
       "  </thead>\n",
       "  <tbody>\n",
       "    <tr>\n",
       "      <th>0</th>\n",
       "      <td>1</td>\n",
       "      <td>1.498442</td>\n",
       "    </tr>\n",
       "    <tr>\n",
       "      <th>1</th>\n",
       "      <td>3</td>\n",
       "      <td>1.494585</td>\n",
       "    </tr>\n",
       "    <tr>\n",
       "      <th>2</th>\n",
       "      <td>1</td>\n",
       "      <td>1.494585</td>\n",
       "    </tr>\n",
       "    <tr>\n",
       "      <th>3</th>\n",
       "      <td>2</td>\n",
       "      <td>1.495152</td>\n",
       "    </tr>\n",
       "    <tr>\n",
       "      <th>4</th>\n",
       "      <td>1</td>\n",
       "      <td>1.491862</td>\n",
       "    </tr>\n",
       "    <tr>\n",
       "      <th>5</th>\n",
       "      <td>1</td>\n",
       "      <td>1.493836</td>\n",
       "    </tr>\n",
       "    <tr>\n",
       "      <th>6</th>\n",
       "      <td>1</td>\n",
       "      <td>1.494585</td>\n",
       "    </tr>\n",
       "    <tr>\n",
       "      <th>7</th>\n",
       "      <td>1</td>\n",
       "      <td>1.494585</td>\n",
       "    </tr>\n",
       "    <tr>\n",
       "      <th>8</th>\n",
       "      <td>1</td>\n",
       "      <td>1.485941</td>\n",
       "    </tr>\n",
       "    <tr>\n",
       "      <th>9</th>\n",
       "      <td>1</td>\n",
       "      <td>1.483967</td>\n",
       "    </tr>\n",
       "    <tr>\n",
       "      <th>10</th>\n",
       "      <td>2</td>\n",
       "      <td>1.499100</td>\n",
       "    </tr>\n",
       "    <tr>\n",
       "      <th>11</th>\n",
       "      <td>2</td>\n",
       "      <td>1.493178</td>\n",
       "    </tr>\n",
       "    <tr>\n",
       "      <th>12</th>\n",
       "      <td>1</td>\n",
       "      <td>1.486599</td>\n",
       "    </tr>\n",
       "    <tr>\n",
       "      <th>13</th>\n",
       "      <td>1</td>\n",
       "      <td>1.509626</td>\n",
       "    </tr>\n",
       "    <tr>\n",
       "      <th>14</th>\n",
       "      <td>1</td>\n",
       "      <td>1.493836</td>\n",
       "    </tr>\n",
       "    <tr>\n",
       "      <th>15</th>\n",
       "      <td>1</td>\n",
       "      <td>1.494585</td>\n",
       "    </tr>\n",
       "    <tr>\n",
       "      <th>16</th>\n",
       "      <td>1</td>\n",
       "      <td>1.494585</td>\n",
       "    </tr>\n",
       "    <tr>\n",
       "      <th>17</th>\n",
       "      <td>1</td>\n",
       "      <td>1.494585</td>\n",
       "    </tr>\n",
       "    <tr>\n",
       "      <th>18</th>\n",
       "      <td>2</td>\n",
       "      <td>1.501731</td>\n",
       "    </tr>\n",
       "    <tr>\n",
       "      <th>19</th>\n",
       "      <td>1</td>\n",
       "      <td>1.487257</td>\n",
       "    </tr>\n",
       "    <tr>\n",
       "      <th>20</th>\n",
       "      <td>1</td>\n",
       "      <td>1.494494</td>\n",
       "    </tr>\n",
       "    <tr>\n",
       "      <th>21</th>\n",
       "      <td>2</td>\n",
       "      <td>1.502389</td>\n",
       "    </tr>\n",
       "    <tr>\n",
       "      <th>22</th>\n",
       "      <td>4</td>\n",
       "      <td>1.494585</td>\n",
       "    </tr>\n",
       "    <tr>\n",
       "      <th>23</th>\n",
       "      <td>4</td>\n",
       "      <td>1.494585</td>\n",
       "    </tr>\n",
       "    <tr>\n",
       "      <th>24</th>\n",
       "      <td>1</td>\n",
       "      <td>1.494585</td>\n",
       "    </tr>\n",
       "    <tr>\n",
       "      <th>25</th>\n",
       "      <td>1</td>\n",
       "      <td>1.494585</td>\n",
       "    </tr>\n",
       "    <tr>\n",
       "      <th>26</th>\n",
       "      <td>1</td>\n",
       "      <td>1.495152</td>\n",
       "    </tr>\n",
       "    <tr>\n",
       "      <th>27</th>\n",
       "      <td>1</td>\n",
       "      <td>1.488573</td>\n",
       "    </tr>\n",
       "    <tr>\n",
       "      <th>28</th>\n",
       "      <td>1</td>\n",
       "      <td>1.496468</td>\n",
       "    </tr>\n",
       "    <tr>\n",
       "      <th>29</th>\n",
       "      <td>1</td>\n",
       "      <td>1.506995</td>\n",
       "    </tr>\n",
       "  </tbody>\n",
       "</table>\n",
       "</div>"
      ],
      "text/plain": [
       "    Actual  Predicted\n",
       "0        1   1.498442\n",
       "1        3   1.494585\n",
       "2        1   1.494585\n",
       "3        2   1.495152\n",
       "4        1   1.491862\n",
       "5        1   1.493836\n",
       "6        1   1.494585\n",
       "7        1   1.494585\n",
       "8        1   1.485941\n",
       "9        1   1.483967\n",
       "10       2   1.499100\n",
       "11       2   1.493178\n",
       "12       1   1.486599\n",
       "13       1   1.509626\n",
       "14       1   1.493836\n",
       "15       1   1.494585\n",
       "16       1   1.494585\n",
       "17       1   1.494585\n",
       "18       2   1.501731\n",
       "19       1   1.487257\n",
       "20       1   1.494494\n",
       "21       2   1.502389\n",
       "22       4   1.494585\n",
       "23       4   1.494585\n",
       "24       1   1.494585\n",
       "25       1   1.494585\n",
       "26       1   1.495152\n",
       "27       1   1.488573\n",
       "28       1   1.496468\n",
       "29       1   1.506995"
      ]
     },
     "execution_count": 55,
     "metadata": {},
     "output_type": "execute_result"
    }
   ],
   "source": [
    "# Creating a dataframe comparing the actual and predicted values of y\n",
    "data = pd.DataFrame({'Actual': y_test.flatten(), 'Predicted': y_predicted.flatten()})\n",
    "data.head(30)"
   ]
  },
  {
   "cell_type": "code",
   "execution_count": null,
   "id": "268f1b63",
   "metadata": {},
   "outputs": [],
   "source": []
  }
 ],
 "metadata": {
  "kernelspec": {
   "display_name": "Python 3",
   "language": "python",
   "name": "python3"
  },
  "language_info": {
   "codemirror_mode": {
    "name": "ipython",
    "version": 3
   },
   "file_extension": ".py",
   "mimetype": "text/x-python",
   "name": "python",
   "nbconvert_exporter": "python",
   "pygments_lexer": "ipython3",
   "version": "3.8.8"
  }
 },
 "nbformat": 4,
 "nbformat_minor": 5
}
